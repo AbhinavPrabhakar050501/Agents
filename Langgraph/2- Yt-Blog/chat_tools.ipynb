{
 "cells": [
  {
   "cell_type": "code",
   "execution_count": 2,
   "id": "cdd3c76e",
   "metadata": {},
   "outputs": [],
   "source": [
    "##create tools\n",
    "\n",
    "from langchain_community.tools import ArxivQueryRun,WikipediaQueryRun\n",
    "from langchain_community.utilities import WikipediaAPIWrapper,ArxivAPIWrapper"
   ]
  },
  {
   "cell_type": "code",
   "execution_count": null,
   "id": "6eb7df38",
   "metadata": {},
   "outputs": [
    {
     "data": {
      "text/plain": [
       "\"Published: 2024-07-22\\nTitle: Attention Is All You Need But You Don't Need All Of It For Inference of Large Language Models\\nAuthors: Georgy Tyukin, Gbetondji J-S Dovonon, Jean Kaddour, Pasquale Minervini\\nSummary: The inference demand for LLMs has skyrocketed in recent months, and serving\\nmodels with low latencies remains challenging due to the quadratic input length\\ncomplexity of the attention layers. In this work, we investigate the effect of\\ndropping MLP and attention layers at inference time o\""
      ]
     },
     "execution_count": 5,
     "metadata": {},
     "output_type": "execute_result"
    }
   ],
   "source": [
    "api_wrapper_arxiv = ArxivAPIWrapper(top_k_results=2,doc_content_chars_max=500)# main wrapper around the arxiv api \n",
    "arxiv = ArxivQueryRun(api_wrapper=api_wrapper_arxiv)#provides invoke to simply query arxiv easily\n",
    "arxiv.invoke(\"Attention is All you need\")"
   ]
  },
  {
   "cell_type": "code",
   "execution_count": 7,
   "id": "1db2a94a",
   "metadata": {},
   "outputs": [
    {
     "data": {
      "text/plain": [
       "'Page: Attention Is All You Need\\nSummary: \"Attention Is All You Need\" is a 2017 landmark research paper in machine learning authored by eight scientists working at Google. The paper introduced a new deep learning architecture known as the transformer, based on the attention mechanism proposed in 2014 by Bahdanau et al. It is considered a foundational paper in modern artificial intelligence, and a main contributor to the AI boom, as the transformer approach has become the main architecture of a wi'"
      ]
     },
     "execution_count": 7,
     "metadata": {},
     "output_type": "execute_result"
    }
   ],
   "source": [
    "api_wrapper_wiki = WikipediaAPIWrapper(top_k_results=2,doc_content_chars_max=500)\n",
    "wiki = WikipediaQueryRun(api_wrapper=api_wrapper_wiki)\n",
    "wiki.invoke(\"Attention is All you need\")"
   ]
  },
  {
   "cell_type": "code",
   "execution_count": 8,
   "id": "30f6d4d2",
   "metadata": {},
   "outputs": [
    {
     "data": {
      "text/plain": [
       "'wikipedia'"
      ]
     },
     "execution_count": 8,
     "metadata": {},
     "output_type": "execute_result"
    }
   ],
   "source": [
    "wiki.name"
   ]
  },
  {
   "cell_type": "code",
   "execution_count": 11,
   "id": "810f91c6",
   "metadata": {},
   "outputs": [],
   "source": [
    "from dotenv import load_dotenv\n",
    "load_dotenv()\n",
    "\n",
    "import os\n",
    "os.environ[\"GROQ_API_KEY\"] = os.getenv(\"GROQ_API_KEY\")\n",
    "os.environ[\"TAVILY_API_KEY\"] = os.getenv(\"TAVILY_API_KEY\")"
   ]
  },
  {
   "cell_type": "code",
   "execution_count": null,
   "id": "eb92f869",
   "metadata": {},
   "outputs": [
    {
     "data": {
      "text/plain": [
       "'Major global events include significant political developments, natural disasters, and technological advancements. Recent updates focus on international relations, climate change, and health crises. Stay informed for the latest news.'"
      ]
     },
     "execution_count": 13,
     "metadata": {},
     "output_type": "execute_result"
    }
   ],
   "source": [
    "from langchain_community.tools.tavily_search import TavilySearchResults, TavilyAnswer\n",
    "tavily = TavilySearchResults()\n",
    "tavily.invoke(\"Give me latest news\")"
   ]
  },
  {
   "cell_type": "code",
   "execution_count": 14,
   "id": "a573f210",
   "metadata": {},
   "outputs": [],
   "source": [
    "#combine all the tools in a list\n",
    "tools = [arxiv,wiki,tavily]\n"
   ]
  },
  {
   "cell_type": "code",
   "execution_count": 15,
   "id": "a4da7d6e",
   "metadata": {},
   "outputs": [
    {
     "data": {
      "text/plain": [
       "AIMessage(content='\\n<think>\\nOkay, the user said \"Hi\". I should respond politely. Let me see... Maybe \"Hello! How can I assist you today?\" That sounds friendly and opens the conversation. Wait, is there anything else I should add? Maybe keep it simple and not overcomplicate. Yeah, that should work.\\n</think>\\n\\nHello! How can I assist you today?', additional_kwargs={}, response_metadata={'token_usage': {'completion_tokens': 74, 'prompt_tokens': 11, 'total_tokens': 85, 'completion_time': 0.183902035, 'prompt_time': 0.004963032, 'queue_time': 6.5112399, 'total_time': 0.188865067}, 'model_name': 'qwen-qwq-32b', 'system_fingerprint': 'fp_1e88ca32eb', 'finish_reason': 'stop', 'logprobs': None}, id='run--a8d358ef-c45e-4f84-9635-c5a50d2b576e-0', usage_metadata={'input_tokens': 11, 'output_tokens': 74, 'total_tokens': 85})"
      ]
     },
     "execution_count": 15,
     "metadata": {},
     "output_type": "execute_result"
    }
   ],
   "source": [
    "#init llm model\n",
    "from langchain_groq import ChatGroq\n",
    "\n",
    "llm = ChatGroq(\n",
    "    model = \"qwen-qwq-32b\"\n",
    ")\n",
    "llm.invoke(\"Hi\")"
   ]
  },
  {
   "cell_type": "code",
   "execution_count": 17,
   "id": "ae0dbaa6",
   "metadata": {},
   "outputs": [],
   "source": [
    "llm_with_tools = llm.bind_tools(tools = tools)\n"
   ]
  },
  {
   "cell_type": "code",
   "execution_count": 18,
   "id": "8e13090e",
   "metadata": {},
   "outputs": [
    {
     "data": {
      "text/plain": [
       "AIMessage(content='', additional_kwargs={'tool_calls': [{'id': 'call_dwth', 'function': {'arguments': '{\"query\":\"latest news on AI\"}', 'name': 'tavily_answer'}, 'type': 'function'}]}, response_metadata={'token_usage': {'completion_tokens': 178, 'prompt_tokens': 413, 'total_tokens': 591, 'completion_time': 0.444497544, 'prompt_time': 0.070826833, 'queue_time': 0.725771274, 'total_time': 0.515324377}, 'model_name': 'qwen-qwq-32b', 'system_fingerprint': 'fp_512a3da6bb', 'finish_reason': 'tool_calls', 'logprobs': None}, id='run--6e2acdfd-a97c-4b4a-bfbd-98fd9c625748-0', tool_calls=[{'name': 'tavily_answer', 'args': {'query': 'latest news on AI'}, 'id': 'call_dwth', 'type': 'tool_call'}], usage_metadata={'input_tokens': 413, 'output_tokens': 178, 'total_tokens': 591})"
      ]
     },
     "execution_count": 18,
     "metadata": {},
     "output_type": "execute_result"
    }
   ],
   "source": [
    "llm_with_tools.invoke(\"What is the latest news on AI?\")"
   ]
  },
  {
   "cell_type": "markdown",
   "id": "5dd0690d",
   "metadata": {},
   "source": [
    "Langraph part"
   ]
  },
  {
   "cell_type": "code",
   "execution_count": 21,
   "id": "1bc6eb7e",
   "metadata": {},
   "outputs": [],
   "source": [
    "from typing_extensions import TypedDict\n",
    "from langchain_core.messages import AnyMessage#human message or ai message\n",
    "from typing import Annotated #annotation labelling\n",
    "from langgraph.graph.message import add_messages #reducers as in append without overwriting"
   ]
  },
  {
   "cell_type": "code",
   "execution_count": 22,
   "id": "28407106",
   "metadata": {},
   "outputs": [],
   "source": [
    "class State(TypedDict):\n",
    "    messages:Annotated[list[AnyMessage], add_messages]"
   ]
  },
  {
   "cell_type": "code",
   "execution_count": 23,
   "id": "8a6b1552",
   "metadata": {},
   "outputs": [],
   "source": [
    "from IPython.display import Image,display\n",
    "from langgraph.graph import StateGraph,START,END\n",
    "from langgraph.prebuilt import ToolNode,tools_condition"
   ]
  },
  {
   "cell_type": "code",
   "execution_count": 25,
   "id": "eccdc816",
   "metadata": {},
   "outputs": [
    {
     "data": {
      "image/png": "[encoded data removed]",
      "text/plain": [
       "<IPython.core.display.Image object>"
      ]
     },
     "metadata": {},
     "output_type": "display_data"
    }
   ],
   "source": [
    "#node def\n",
    "def assisstant_call_tools(state:State):\n",
    "    return {\"messages\":[llm_with_tools.invoke(state[\"messages\"])]}\n",
    "#build graph\n",
    "builder = StateGraph(State)\n",
    "builder.add_node(\"assisstant_call_tools\", assisstant_call_tools)\n",
    "builder.add_node(\"tools\",ToolNode(tools))\n",
    "#edges \n",
    "builder.add_edge(START,\"assisstant_call_tools\")\n",
    "builder.add_conditional_edges(\n",
    "    \"assisstant_call_tools\",tools_condition\n",
    ")\n",
    "builder.add_edge(\"tools\",END)\n",
    "\n",
    "#compile\n",
    "graph = builder.compile()\n",
    "display(Image(graph.get_graph().draw_mermaid_png()))"
   ]
  },
  {
   "cell_type": "code",
   "execution_count": 31,
   "id": "2cd6e827",
   "metadata": {},
   "outputs": [
    {
     "name": "stdout",
     "output_type": "stream",
     "text": [
      "================================\u001b[1m Human Message \u001b[0m=================================\n",
      "\n",
      "Hi, what is the recent news on Agentic AI and give me the recent paper on the same\n",
      "==================================\u001b[1m Ai Message \u001b[0m==================================\n",
      "Tool Calls:\n",
      "  tavily_answer (call_rkcg)\n",
      " Call ID: call_rkcg\n",
      "  Args:\n",
      "    query: recent news on Agentic AI\n",
      "  arxiv (call_7qrh)\n",
      " Call ID: call_7qrh\n",
      "  Args:\n",
      "    query: Agentic AI\n",
      "=================================\u001b[1m Tool Message \u001b[0m=================================\n",
      "Name: tavily_answer\n",
      "\n",
      "Agentic AI is rapidly evolving, with Microsoft introducing new tools at Build 2025. IBM and AWS are collaborating on new agentic AI capabilities. The agentic AI market is projected to reach $41 billion.\n",
      "=================================\u001b[1m Tool Message \u001b[0m=================================\n",
      "Name: arxiv\n",
      "\n",
      "Published: 2025-02-25\n",
      "Title: Responsible AI Agents\n",
      "Authors: Deven R. Desai, Mark O. Riedl\n",
      "Summary: Thanks to advances in large language models, a new type of software agent,\n",
      "the artificial intelligence (AI) agent, has entered the marketplace. Companies\n",
      "such as OpenAI, Google, Microsoft, and Salesforce promise their AI Agents will\n",
      "go from generating passive text to executing tasks. Instead of a travel\n",
      "itinerary, an AI Agent would book all aspects of your trip. Instead of\n",
      "generating text or images\n"
     ]
    }
   ],
   "source": [
    "#TEST\n",
    "messages = graph.invoke({\"messages\":\"Hi, what is the recent news on Agentic AI and give me the recent paper on the same\"})\n",
    "for m in messages[\"messages\"]:\n",
    "    m.pretty_print()"
   ]
  },
  {
   "cell_type": "code",
   "execution_count": 32,
   "id": "4eb2de16",
   "metadata": {},
   "outputs": [
    {
     "data": {
      "image/png": "[encoded data removed]",
      "text/plain": [
       "<IPython.core.display.Image object>"
      ]
     },
     "metadata": {},
     "output_type": "display_data"
    }
   ],
   "source": [
    "# node def\n",
    "def assisstant_call_tools(state: State):\n",
    "    return {\"messages\": [llm_with_tools.invoke(state[\"messages\"])]}\n",
    "\n",
    "# build graph\n",
    "builder = StateGraph(State)\n",
    "builder.add_node(\"assisstant_call_tools\", assisstant_call_tools)\n",
    "builder.add_node(\"tools\", ToolNode(tools))\n",
    "\n",
    "# edges\n",
    "builder.add_edge(START, \"assisstant_call_tools\")\n",
    "builder.add_conditional_edges(\n",
    "    \"assisstant_call_tools\", tools_condition\n",
    ")\n",
    "builder.add_edge(\"tools\", \"assisstant_call_tools\")  # loop back to assistant\n",
    "builder.add_edge(\"assisstant_call_tools\", END)      # allow exit\n",
    "\n",
    "# compile\n",
    "graph = builder.compile()\n",
    "display(Image(graph.get_graph().draw_mermaid_png()))"
   ]
  },
  {
   "cell_type": "code",
   "execution_count": 33,
   "id": "3d262739",
   "metadata": {},
   "outputs": [
    {
     "name": "stdout",
     "output_type": "stream",
     "text": [
      "================================\u001b[1m Human Message \u001b[0m=================================\n",
      "\n",
      "Hi, what is the recent news on Agentic AI and give me the recent paper on the same\n",
      "==================================\u001b[1m Ai Message \u001b[0m==================================\n",
      "Tool Calls:\n",
      "  tavily_answer (call_bhgm)\n",
      " Call ID: call_bhgm\n",
      "  Args:\n",
      "    query: recent news on Agentic AI\n",
      "  arxiv (call_6c4d)\n",
      " Call ID: call_6c4d\n",
      "  Args:\n",
      "    query: Agentic AI\n",
      "=================================\u001b[1m Tool Message \u001b[0m=================================\n",
      "Name: tavily_answer\n",
      "\n",
      "Agentic AI is advancing with new tools from Microsoft, AWS, and IBM, focusing on autonomous agents that perform tasks. The technology is transforming workforce capabilities. Recent announcements are emphasizing responsible AI deployment.\n",
      "=================================\u001b[1m Tool Message \u001b[0m=================================\n",
      "Name: arxiv\n",
      "\n",
      "Published: 2025-02-25\n",
      "Title: Responsible AI Agents\n",
      "Authors: Deven R. Desai, Mark O. Riedl\n",
      "Summary: Thanks to advances in large language models, a new type of software agent,\n",
      "the artificial intelligence (AI) agent, has entered the marketplace. Companies\n",
      "such as OpenAI, Google, Microsoft, and Salesforce promise their AI Agents will\n",
      "go from generating passive text to executing tasks. Instead of a travel\n",
      "itinerary, an AI Agent would book all aspects of your trip. Instead of\n",
      "generating text or images\n",
      "==================================\u001b[1m Ai Message \u001b[0m==================================\n",
      "\n",
      "Here's a summary of the recent news and relevant academic research on Agentic AI:\n",
      "\n",
      "**Recent Developments (via Tavily):**\n",
      "- Major tech companies (Microsoft, AWS, IBM) are developing autonomous AI agents capable of performing tasks without direct human intervention.\n",
      "- Focus areas include enhancing workforce productivity through task automation.\n",
      "- There's an emphasis on **responsible AI deployment** to address ethical and operational challenges.\n",
      "\n",
      "**Recent Paper (ArXiv, 2025-02-25):**\n",
      "- **Title:** *\"Responsible AI Agents\"*  \n",
      "- **Authors:** Deven R. Desai & Mark O. Riedl  \n",
      "- **Focus:** Examines the shift from passive AI tools (e.g., text generation) to active AI agents that execute tasks (e.g., booking travel automatically).  \n",
      "- **Key Theme:** Stresses the need for frameworks to ensure accountability, safety, and ethical use of these agents.  \n",
      "\n",
      "Let me know if you'd like deeper analysis or additional details!\n"
     ]
    }
   ],
   "source": [
    "messages = graph.invoke({\"messages\":\"Hi, what is the recent news on Agentic AI and give me the recent paper on the same\"})\n",
    "for m in messages[\"messages\"]:\n",
    "    m.pretty_print()"
   ]
  },
  {
   "cell_type": "code",
   "execution_count": null,
   "id": "dfc431c9",
   "metadata": {},
   "outputs": [],
   "source": []
  }
 ],
 "metadata": {
  "kernelspec": {
   "display_name": "env",
   "language": "python",
   "name": "python3"
  },
  "language_info": {
   "codemirror_mode": {
    "name": "ipython",
    "version": 3
   },
   "file_extension": ".py",
   "mimetype": "text/x-python",
   "name": "python",
   "nbconvert_exporter": "python",
   "pygments_lexer": "ipython3",
   "version": "3.10.4"
  }
 },
 "nbformat": 4,
 "nbformat_minor": 5
}
